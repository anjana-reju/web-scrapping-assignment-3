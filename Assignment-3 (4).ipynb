{
 "cells": [
  {
   "cell_type": "code",
   "execution_count": 1,
   "metadata": {},
   "outputs": [],
   "source": [
    "#import all the required libraries\n",
    "import pandas as pd\n",
    "import selenium\n",
    "from selenium import webdriver\n",
    "from selenium.common.exceptions import StaleElementReferenceException, NoSuchElementException\n",
    "import time"
   ]
  },
  {
   "cell_type": "markdown",
   "metadata": {},
   "source": [
    "1. Write a python program which searches all the product under a particular product vertical from www.amazon.in."
   ]
  },
  {
   "cell_type": "code",
   "execution_count": 2,
   "metadata": {},
   "outputs": [],
   "source": [
    "#initialising driver\n",
    "driver=webdriver.Chrome(\"C:\\Web driver\\\\chromedriver.exe\")\n",
    "driver.get('https://www.amazon.in/')"
   ]
  },
  {
   "cell_type": "code",
   "execution_count": 3,
   "metadata": {},
   "outputs": [],
   "source": [
    "#locating the search bar and search button\n",
    "search_bar = driver.find_element_by_id(\"twotabsearchtextbox\")   \n",
    "search_bar.clear()                                             \n",
    "search_bar.send_keys(\"rubiks cube\")                                   \n",
    "search_button = driver.find_element_by_id(\"nav-search-submit-button\")       \n",
    "search_button.click()    "
   ]
  },
  {
   "cell_type": "code",
   "execution_count": 4,
   "metadata": {},
   "outputs": [],
   "source": [
    "#creating empty list\n",
    "product_name=[]\n",
    "\n",
    "for i in range(7):\n",
    "    for j in driver.find_elements_by_xpath(\"//span[@class='a-size-base-plus a-color-base a-text-normal']\"):\n",
    "        product_name.append(j.text)"
   ]
  },
  {
   "cell_type": "code",
   "execution_count": 5,
   "metadata": {},
   "outputs": [
    {
     "name": "stdout",
     "output_type": "stream",
     "text": [
      "448\n"
     ]
    }
   ],
   "source": [
    "print(len(product_name))"
   ]
  },
  {
   "cell_type": "code",
   "execution_count": 6,
   "metadata": {},
   "outputs": [
    {
     "data": {
      "text/html": [
       "<div>\n",
       "<style scoped>\n",
       "    .dataframe tbody tr th:only-of-type {\n",
       "        vertical-align: middle;\n",
       "    }\n",
       "\n",
       "    .dataframe tbody tr th {\n",
       "        vertical-align: top;\n",
       "    }\n",
       "\n",
       "    .dataframe thead th {\n",
       "        text-align: right;\n",
       "    }\n",
       "</style>\n",
       "<table border=\"1\" class=\"dataframe\">\n",
       "  <thead>\n",
       "    <tr style=\"text-align: right;\">\n",
       "      <th></th>\n",
       "      <th>Names</th>\n",
       "    </tr>\n",
       "  </thead>\n",
       "  <tbody>\n",
       "    <tr>\n",
       "      <th>0</th>\n",
       "      <td>D ETERNAL Stickerless Cube Set of 2X2 3x3 and ...</td>\n",
       "    </tr>\n",
       "    <tr>\n",
       "      <th>1</th>\n",
       "      <td>D ETERNAL MoYu Mofang Jiaoshi 3X3 High Speed S...</td>\n",
       "    </tr>\n",
       "    <tr>\n",
       "      <th>2</th>\n",
       "      <td>D ETERNAL Cube Combo of 2x2 and Pyraminx Pyram...</td>\n",
       "    </tr>\n",
       "    <tr>\n",
       "      <th>3</th>\n",
       "      <td>D ETERNAL Octagonal Barrel High Speed Cube 3x3...</td>\n",
       "    </tr>\n",
       "    <tr>\n",
       "      <th>4</th>\n",
       "      <td>Funskool-Rubik's Cube</td>\n",
       "    </tr>\n",
       "    <tr>\n",
       "      <th>...</th>\n",
       "      <td>...</td>\n",
       "    </tr>\n",
       "    <tr>\n",
       "      <th>443</th>\n",
       "      <td>Shengshou Megaminx Black/White Speed Cube (Col...</td>\n",
       "    </tr>\n",
       "    <tr>\n",
       "      <th>444</th>\n",
       "      <td>VinayakaMart Multi-Color SkewB Cube 4x4 Super ...</td>\n",
       "    </tr>\n",
       "    <tr>\n",
       "      <th>445</th>\n",
       "      <td>Shivsoft All in one Infinity Twisty Black Base...</td>\n",
       "    </tr>\n",
       "    <tr>\n",
       "      <th>446</th>\n",
       "      <td>Popsugar - THEQY521 High Speed 3x3x3 Cube, Mul...</td>\n",
       "    </tr>\n",
       "    <tr>\n",
       "      <th>447</th>\n",
       "      <td>AdiChai 4 X 4 X 4 World Famous QiYi QiYuan S S...</td>\n",
       "    </tr>\n",
       "  </tbody>\n",
       "</table>\n",
       "<p>448 rows × 1 columns</p>\n",
       "</div>"
      ],
      "text/plain": [
       "                                                 Names\n",
       "0    D ETERNAL Stickerless Cube Set of 2X2 3x3 and ...\n",
       "1    D ETERNAL MoYu Mofang Jiaoshi 3X3 High Speed S...\n",
       "2    D ETERNAL Cube Combo of 2x2 and Pyraminx Pyram...\n",
       "3    D ETERNAL Octagonal Barrel High Speed Cube 3x3...\n",
       "4                                Funskool-Rubik's Cube\n",
       "..                                                 ...\n",
       "443  Shengshou Megaminx Black/White Speed Cube (Col...\n",
       "444  VinayakaMart Multi-Color SkewB Cube 4x4 Super ...\n",
       "445  Shivsoft All in one Infinity Twisty Black Base...\n",
       "446  Popsugar - THEQY521 High Speed 3x3x3 Cube, Mul...\n",
       "447  AdiChai 4 X 4 X 4 World Famous QiYi QiYuan S S...\n",
       "\n",
       "[448 rows x 1 columns]"
      ]
     },
     "execution_count": 6,
     "metadata": {},
     "output_type": "execute_result"
    }
   ],
   "source": [
    "Rubiks_cube=pd.DataFrame({})\n",
    "Rubiks_cube['Names']=product_name[:]\n",
    "Rubiks_cube"
   ]
  },
  {
   "cell_type": "code",
   "execution_count": null,
   "metadata": {},
   "outputs": [],
   "source": []
  },
  {
   "cell_type": "markdown",
   "metadata": {},
   "source": [
    "2. In the above question, now scrape the following details of each product listed in first 3 pages of your search results and save it in a dataframe and csv. In case if any product vertical has less than 3 pages in search results then scrape all the products available under that product vertical. Details to be scraped are: \"Brand Name\", \"Name of the Product\", \"Rating\", \"No. of Ratings\", \"Price\", \"Return/Exchange\", \"Expected Delivery\", \"Availability\", \"Other Details\" and “Product URL”. In case, if any of the details are missing for any of the product then replace it by “-“."
   ]
  },
  {
   "cell_type": "code",
   "execution_count": 10,
   "metadata": {},
   "outputs": [],
   "source": [
    "#creating  empty list\n",
    "Brand_name=[]\n",
    "Name_of_product=[]\n",
    "Rating=[]\n",
    "No_of_ratings=[]\n",
    "Price=[]\n",
    "Expected_delivery=[]\n",
    "Availability=[]\n",
    "Other_details=[]"
   ]
  },
  {
   "cell_type": "code",
   "execution_count": 11,
   "metadata": {},
   "outputs": [],
   "source": [
    "for i in range(3):\n",
    "    \n",
    "    name=driver.find_elements_by_xpath(\"//span[@class='a-size-base-plus a-color-base a-text-normal']\")\n",
    "    for k in name:\n",
    "        if k.text is None:\n",
    "            Name_of_product.append(\"--\")\n",
    "        else:\n",
    "            Name_of_product.append(k.text)\n",
    "        \n",
    "    rating=driver.find_elements_by_xpath(\"//i[@class='a-icon a-icon-star-small a-star-small-4-5 aok-align-bottom']\")\n",
    "    for l in rating:\n",
    "        if l.text is None:\n",
    "            Rating.append(\"--\")\n",
    "        else:\n",
    "            Rating.append(l.text)\n",
    "        \n",
    "    ratings=driver.find_elements_by_xpath(\"//span[@class='a-size-base']\")\n",
    "    for m in ratings:\n",
    "        if m.text is None:\n",
    "            No_of_ratings.append(\"--\")\n",
    "        else:\n",
    "            No_of_ratings.append(m.text)\n",
    "        \n",
    "    price=driver.find_elements_by_xpath(\"//span[@class='a-price-whole']\")\n",
    "    for n in price:\n",
    "        if n.text is None:\n",
    "            Price.append(\"--\")\n",
    "        else:\n",
    "            Price.append(n.text) \n",
    "        \n",
    "    delivery=driver.find_elements_by_xpath(\"//span[@class='a-text-bold']\")\n",
    "    for o in delivery:\n",
    "        if o.text is None:\n",
    "            Expected_delivery.append(\"--\")\n",
    "        else:\n",
    "            Expected_delivery.append(o.text)  \n",
    "        \n",
    "    others=driver.find_elements_by_xpath(\"//div[@class='a-row a-size-base a-color-base']/span\")\n",
    "    for q in others:\n",
    "        if q.text is None:\n",
    "            Other_details.append(\"--\")\n",
    "        else:\n",
    "            Other_details.append(q.text)   \n",
    "   "
   ]
  },
  {
   "cell_type": "code",
   "execution_count": 12,
   "metadata": {},
   "outputs": [
    {
     "name": "stdout",
     "output_type": "stream",
     "text": [
      "192 111 189 192 192 177\n"
     ]
    }
   ],
   "source": [
    "print(len(Name_of_product),len(Rating),len(No_of_ratings),len(Price),len(Expected_delivery),len(Other_details))"
   ]
  },
  {
   "cell_type": "code",
   "execution_count": 13,
   "metadata": {},
   "outputs": [
    {
     "data": {
      "text/html": [
       "<div>\n",
       "<style scoped>\n",
       "    .dataframe tbody tr th:only-of-type {\n",
       "        vertical-align: middle;\n",
       "    }\n",
       "\n",
       "    .dataframe tbody tr th {\n",
       "        vertical-align: top;\n",
       "    }\n",
       "\n",
       "    .dataframe thead th {\n",
       "        text-align: right;\n",
       "    }\n",
       "</style>\n",
       "<table border=\"1\" class=\"dataframe\">\n",
       "  <thead>\n",
       "    <tr style=\"text-align: right;\">\n",
       "      <th></th>\n",
       "      <th>name</th>\n",
       "      <th>rating</th>\n",
       "      <th>ratings</th>\n",
       "      <th>price</th>\n",
       "      <th>delivery</th>\n",
       "      <th>others</th>\n",
       "    </tr>\n",
       "  </thead>\n",
       "  <tbody>\n",
       "    <tr>\n",
       "      <th>0</th>\n",
       "      <td>D ETERNAL Stickerless Cube Set of 2X2 3x3 and ...</td>\n",
       "      <td></td>\n",
       "      <td>152</td>\n",
       "      <td>1,699</td>\n",
       "      <td>Tomorrow, February 24</td>\n",
       "      <td>Ages: 3 years and up</td>\n",
       "    </tr>\n",
       "    <tr>\n",
       "      <th>1</th>\n",
       "      <td>D ETERNAL MoYu Mofang Jiaoshi 3X3 High Speed S...</td>\n",
       "      <td></td>\n",
       "      <td>432</td>\n",
       "      <td>449</td>\n",
       "      <td>Tomorrow, February 24</td>\n",
       "      <td>Ages: 3 years and up</td>\n",
       "    </tr>\n",
       "    <tr>\n",
       "      <th>2</th>\n",
       "      <td>D ETERNAL Cube Combo of 2x2 and Pyraminx Pyram...</td>\n",
       "      <td></td>\n",
       "      <td>486</td>\n",
       "      <td>199</td>\n",
       "      <td>Tomorrow, February 24</td>\n",
       "      <td>Ages: 3 years and up</td>\n",
       "    </tr>\n",
       "    <tr>\n",
       "      <th>3</th>\n",
       "      <td>D ETERNAL Octagonal Barrel High Speed Cube 3x3...</td>\n",
       "      <td></td>\n",
       "      <td>2</td>\n",
       "      <td>399</td>\n",
       "      <td>Saturday, February 27</td>\n",
       "      <td>Ages: 3 years and up</td>\n",
       "    </tr>\n",
       "    <tr>\n",
       "      <th>4</th>\n",
       "      <td>Funskool-Rubik's Cube</td>\n",
       "      <td></td>\n",
       "      <td>2,064</td>\n",
       "      <td>249</td>\n",
       "      <td>Today, February 23</td>\n",
       "      <td>Ages: 8 years and up</td>\n",
       "    </tr>\n",
       "    <tr>\n",
       "      <th>...</th>\n",
       "      <td>...</td>\n",
       "      <td>...</td>\n",
       "      <td>...</td>\n",
       "      <td>...</td>\n",
       "      <td>...</td>\n",
       "      <td>...</td>\n",
       "    </tr>\n",
       "    <tr>\n",
       "      <th>105</th>\n",
       "      <td>Cubelelo QiYi Sail 3x3 Black Magic Speed Cube ...</td>\n",
       "      <td></td>\n",
       "      <td>810</td>\n",
       "      <td>221</td>\n",
       "      <td>Thursday, February 25</td>\n",
       "      <td>Ages: 6 years and up</td>\n",
       "    </tr>\n",
       "    <tr>\n",
       "      <th>106</th>\n",
       "      <td>Cubelelo QiYi 2x2 3x3 4x4 &amp; 5x5 Stickerless Co...</td>\n",
       "      <td></td>\n",
       "      <td>3,018</td>\n",
       "      <td>969</td>\n",
       "      <td>Tomorrow, February 24</td>\n",
       "      <td>Ages: 3 years and up</td>\n",
       "    </tr>\n",
       "    <tr>\n",
       "      <th>107</th>\n",
       "      <td>FunBlast High Stability Stickerless - 3x3x3 Sp...</td>\n",
       "      <td></td>\n",
       "      <td>8</td>\n",
       "      <td>160</td>\n",
       "      <td>Tomorrow, February 24</td>\n",
       "      <td>Ages: 3 years and up</td>\n",
       "    </tr>\n",
       "    <tr>\n",
       "      <th>108</th>\n",
       "      <td>Cubelelo Mofang Jiaoshi MF3RS 3X3 Stickerless ...</td>\n",
       "      <td></td>\n",
       "      <td>719</td>\n",
       "      <td>351</td>\n",
       "      <td>Tomorrow, February 24</td>\n",
       "      <td>Ages: 3 years and up</td>\n",
       "    </tr>\n",
       "    <tr>\n",
       "      <th>109</th>\n",
       "      <td>D ETERNAL QIYI QUIAN S 4x4x4 High Speed Sticke...</td>\n",
       "      <td></td>\n",
       "      <td>1,534</td>\n",
       "      <td>389</td>\n",
       "      <td>Saturday, February 27</td>\n",
       "      <td>Ages: 3 years and up</td>\n",
       "    </tr>\n",
       "  </tbody>\n",
       "</table>\n",
       "<p>110 rows × 6 columns</p>\n",
       "</div>"
      ],
      "text/plain": [
       "                                                  name rating ratings  price  \\\n",
       "0    D ETERNAL Stickerless Cube Set of 2X2 3x3 and ...            152  1,699   \n",
       "1    D ETERNAL MoYu Mofang Jiaoshi 3X3 High Speed S...            432    449   \n",
       "2    D ETERNAL Cube Combo of 2x2 and Pyraminx Pyram...            486    199   \n",
       "3    D ETERNAL Octagonal Barrel High Speed Cube 3x3...              2    399   \n",
       "4                                Funskool-Rubik's Cube          2,064    249   \n",
       "..                                                 ...    ...     ...    ...   \n",
       "105  Cubelelo QiYi Sail 3x3 Black Magic Speed Cube ...            810    221   \n",
       "106  Cubelelo QiYi 2x2 3x3 4x4 & 5x5 Stickerless Co...          3,018    969   \n",
       "107  FunBlast High Stability Stickerless - 3x3x3 Sp...              8    160   \n",
       "108  Cubelelo Mofang Jiaoshi MF3RS 3X3 Stickerless ...            719    351   \n",
       "109  D ETERNAL QIYI QUIAN S 4x4x4 High Speed Sticke...          1,534    389   \n",
       "\n",
       "                  delivery                others  \n",
       "0    Tomorrow, February 24  Ages: 3 years and up  \n",
       "1    Tomorrow, February 24  Ages: 3 years and up  \n",
       "2    Tomorrow, February 24  Ages: 3 years and up  \n",
       "3    Saturday, February 27  Ages: 3 years and up  \n",
       "4       Today, February 23  Ages: 8 years and up  \n",
       "..                     ...                   ...  \n",
       "105  Thursday, February 25  Ages: 6 years and up  \n",
       "106  Tomorrow, February 24  Ages: 3 years and up  \n",
       "107  Tomorrow, February 24  Ages: 3 years and up  \n",
       "108  Tomorrow, February 24  Ages: 3 years and up  \n",
       "109  Saturday, February 27  Ages: 3 years and up  \n",
       "\n",
       "[110 rows x 6 columns]"
      ]
     },
     "execution_count": 13,
     "metadata": {},
     "output_type": "execute_result"
    }
   ],
   "source": [
    "#creating a dataframe\n",
    "\n",
    "Rubiks_cube=pd.DataFrame({})\n",
    "Rubiks_cube['name']=Name_of_product[:110]\n",
    "Rubiks_cube['rating']=Rating[:110]\n",
    "Rubiks_cube['ratings']=No_of_ratings[:110]\n",
    "Rubiks_cube['price']=Price[:110]\n",
    "Rubiks_cube['delivery']=Expected_delivery[:110]\n",
    "Rubiks_cube['others']=Other_details[:110]\n",
    "\n",
    "Rubiks_cube"
   ]
  },
  {
   "cell_type": "code",
   "execution_count": null,
   "metadata": {},
   "outputs": [],
   "source": []
  },
  {
   "cell_type": "markdown",
   "metadata": {},
   "source": [
    "3. Write a python program to access the search bar and search button on images.google.com and scrape 100 images each for keywords ‘fruits’, ‘cars’ and ‘Machine Learning’."
   ]
  },
  {
   "cell_type": "code",
   "execution_count": 19,
   "metadata": {},
   "outputs": [],
   "source": [
    "#initialising driver\n",
    "driver=webdriver.Chrome(\"C:\\Web driver\\\\chromedriver.exe\")\n",
    "driver.get('https://images.google.com/?gws_rd=ssl')"
   ]
  },
  {
   "cell_type": "code",
   "execution_count": 3,
   "metadata": {},
   "outputs": [],
   "source": [
    "#locating the search bar and search button\n",
    "search_bar = driver.find_element_by_xpath(\"//input[@class='gLFyf gsfi']\")   \n",
    "search_bar.clear()                                             \n",
    "search_bar.send_keys(\"fruits\")                                   \n",
    "search_button = driver.find_element_by_xpath(\"//span[@class='z1asCe MZy1Rb']\")       \n",
    "search_button.click()  "
   ]
  },
  {
   "cell_type": "code",
   "execution_count": 4,
   "metadata": {},
   "outputs": [],
   "source": [
    "#creating empty lists\n",
    "Fruits=[]\n",
    "Cars=[]\n",
    "Machine_Learning=[]"
   ]
  },
  {
   "cell_type": "code",
   "execution_count": 5,
   "metadata": {},
   "outputs": [],
   "source": [
    "#to scroll down to to the end of page\n",
    "last_height=driver.execute_script('return document.body.scrollHeight')\n",
    "while True:\n",
    "    driver.execute_script('window.scrollTo(0,document.body.scrollHeight)')\n",
    "    time.sleep(2)\n",
    "    new_height=driver.execute_script('return document.body.scrollHeight')\n",
    "    try:\n",
    "        driver.find_element_by_xpath('//*[@id=\"islmp\"]/div/div/div/div/div[5]/input')\n",
    "        time.sleep(2)\n",
    "    except:\n",
    "        pass\n",
    "    if new_height==last_height:\n",
    "        break\n",
    "    last_height=new_height\n",
    "    "
   ]
  },
  {
   "cell_type": "markdown",
   "metadata": {},
   "source": [
    "#to scrap 100 images using xpath and store it in a file named fruits in D drive\n",
    "#xpath is same for all images in a page.only change occurs is in div[2],there we give '+string(i)+',to get xpath of all images"
   ]
  },
  {
   "cell_type": "code",
   "execution_count": 20,
   "metadata": {},
   "outputs": [],
   "source": [
    "#locating the search bar and search button\n",
    "search_bar = driver.find_element_by_xpath(\"//input[@class='gLFyf gsfi']\")   \n",
    "search_bar.clear()                                             \n",
    "search_bar.send_keys(\"cars\")                                   \n",
    "search_button = driver.find_element_by_xpath(\"//span[@class='z1asCe MZy1Rb']\")       \n",
    "search_button.click()  "
   ]
  },
  {
   "cell_type": "code",
   "execution_count": 21,
   "metadata": {},
   "outputs": [],
   "source": [
    "#to scroll down to to the end of page\n",
    "last_height=driver.execute_script('return document.body.scrollHeight')\n",
    "while True:\n",
    "    driver.execute_script('window.scrollTo(0,document.body.scrollHeight)')\n",
    "    time.sleep(2)\n",
    "    new_height=driver.execute_script('return document.body.scrollHeight')\n",
    "    try:\n",
    "        driver.find_element_by_xpath('//*[@id=\"islmp\"]/div/div/div/div/div[5]/input')\n",
    "        time.sleep(2)\n",
    "    except:\n",
    "        pass\n",
    "    if new_height==last_height:\n",
    "        break\n",
    "    last_height=new_height\n",
    "    "
   ]
  },
  {
   "cell_type": "markdown",
   "metadata": {},
   "source": [
    "#to scrap 100 images using xpath and store it in a file named cars img in D drive\n",
    "\n",
    "#xpath is same for all images in a page.only change occurs is in div[2],there we give '+string(i)+',to get xpath of all images"
   ]
  },
  {
   "cell_type": "code",
   "execution_count": 23,
   "metadata": {},
   "outputs": [],
   "source": [
    "for i in range(1,100):\n",
    "    try:\n",
    "        driver.find_element_by_xpath('//*[@id=\"islrg\"]/div[1]/div['+str(i)+']/a[1]/div[1]/img').screenshot('D:\\images\\cars img\\fruits('+str(i)+').png')\n",
    "    except:\n",
    "        pass"
   ]
  },
  {
   "cell_type": "code",
   "execution_count": 27,
   "metadata": {},
   "outputs": [],
   "source": [
    "#locating the search bar and search button\n",
    "search_bar = driver.find_element_by_xpath(\"//input[@class='gLFyf gsfi']\")   \n",
    "search_bar.clear()                                             \n",
    "search_bar.send_keys(\"Machine learning\")                                   \n",
    "search_button = driver.find_element_by_xpath(\"//span[@class='z1asCe MZy1Rb']\")       \n",
    "search_button.click()  "
   ]
  },
  {
   "cell_type": "code",
   "execution_count": 28,
   "metadata": {},
   "outputs": [],
   "source": [
    "#to scroll down to to the end of page\n",
    "last_height=driver.execute_script('return document.body.scrollHeight')\n",
    "while True:\n",
    "    driver.execute_script('window.scrollTo(0,document.body.scrollHeight)')\n",
    "    time.sleep(2)\n",
    "    new_height=driver.execute_script('return document.body.scrollHeight')\n",
    "    try:\n",
    "        driver.find_element_by_xpath('//*[@id=\"islmp\"]/div/div/div/div/div[5]/input')\n",
    "        time.sleep(2)\n",
    "    except:\n",
    "        pass\n",
    "    if new_height==last_height:\n",
    "        break\n",
    "    last_height=new_height\n",
    "    "
   ]
  },
  {
   "cell_type": "markdown",
   "metadata": {},
   "source": [
    "#to scrap 100 images using xpath and store it in a file named mach learn img in D drive\n",
    "\n",
    "#xpath is same for all images in a page.only change occurs is in div[2],there we give '+string(i)+',to get xpath of all images"
   ]
  },
  {
   "cell_type": "code",
   "execution_count": 29,
   "metadata": {},
   "outputs": [],
   "source": [
    "for i in range(1,100):\n",
    "    try:\n",
    "        driver.find_element_by_xpath('//*[@id=\"islrg\"]/div[1]/div['+str(i)+']/a[1]/div[1]/img').screenshot('D:\\images\\mach learn img\\fruits('+str(i)+').png')\n",
    "    except:\n",
    "        pass"
   ]
  },
  {
   "cell_type": "code",
   "execution_count": null,
   "metadata": {},
   "outputs": [],
   "source": []
  },
  {
   "cell_type": "markdown",
   "metadata": {},
   "source": [
    "4. Write a python program to search for a smartphone(e.g.: Oneplus Nord, pixel 4A, etc.) on www.flipkart.com and scrape following details for all the search results displayed on 1st page. Details to be scraped: “Brand Name”, “Smartphone name”, “Colour”, “RAM”, “Storage(ROM)”, “Primary Camera”, “Secondary Camera”, “Display Size”, “Display Resolution”, “Processor”, “Processor Cores”, “Battery Capacity”, “Price”, “Product URL”. Incase if any of the details is missing then replace it by “- “. Save your results in a dataframe and CSV."
   ]
  },
  {
   "cell_type": "code",
   "execution_count": 38,
   "metadata": {},
   "outputs": [],
   "source": [
    "#initialising driver\n",
    "driver=webdriver.Chrome(\"C:\\Web driver\\\\chromedriver.exe\")\n",
    "driver.get('https://www.flipkart.com/')"
   ]
  },
  {
   "cell_type": "code",
   "execution_count": 39,
   "metadata": {},
   "outputs": [],
   "source": [
    "#locating the search bar\n",
    "search_bar=driver.find_element_by_class_name('_3704LK')\n",
    "search_bar.clear()\n",
    "search_bar.send_keys('smartphone')"
   ]
  },
  {
   "cell_type": "code",
   "execution_count": 40,
   "metadata": {},
   "outputs": [],
   "source": [
    "#locating the button and clicking it to search for smartphones\n",
    "button=driver.find_element_by_class_name('L0Z3Pu')\n",
    "button.click()"
   ]
  },
  {
   "cell_type": "code",
   "execution_count": 41,
   "metadata": {},
   "outputs": [],
   "source": [
    "#creating empty list\n",
    "Brand_name=[]\n",
    "Smartphone_name=[]\n",
    "Colour=[]\n",
    "RAM=[]\n",
    "ROM=[]\n",
    "Primary_camera=[]\n",
    "Secondary_camera=[]\n",
    "Display_size=[]\n",
    "Display_resolution=[]\n",
    "Processor=[]\n",
    "Processor_core=[]\n",
    "Battery_capacity=[]\n",
    "Price=[]\n",
    "Product_url=[]"
   ]
  },
  {
   "cell_type": "code",
   "execution_count": 49,
   "metadata": {},
   "outputs": [],
   "source": [
    "urls=driver.find_elements_by_xpath(\"//a[@class='_1fQZEK']\")#collecting urls of all the smartphones\n",
    "UR=[]\n",
    "for i in urls[:20]:\n",
    "    UR.append(i.get_attribute('href'))#getting the url of first 20 phones\n",
    "for url in UR:#loop for every phone in the list\n",
    "    driver.get(url)\n",
    "   \n",
    "    try:                  #exception handling for nosuchelementexception\n",
    "        details=driver.find_element_by_xpath(\"//div[@class='_1AtVbE col-12-12']\")#locating the phone name and clicking on it to get the details\n",
    "        details.click()   \n",
    "   \n",
    "        brand=driver.find_element_by_xpath(\"//span[@class='B_NuCI']\")#locating the brand name\n",
    "        Brand_name.append(brand.text)#appending the brand name\n",
    "\n",
    "        \n",
    "        name=driver.find_element_by_xpath(\"//li[@class='_21lJbe']/td[4]\")\n",
    "        Smartphone_name.append(name.text)\n",
    "        \n",
    "        colour=driver.find_element_by_xpath(\"//td[@class='URwL2w col col-9-12']/li\")\n",
    "        Colour.append(colour.text)\n",
    "        \n",
    "        \n",
    "        ram=driver.find_element_by_xpath(\"//ul[@class='_21lJbe']/li\")\n",
    "        RAM.append(ram.text)\n",
    "        \n",
    "        rom=driver.find_element_by_xpath(\"//a[@class='_1fGeJ5 PP89tw']\")\n",
    "        ROM.append(rom.text)\n",
    "        \n",
    "        camera1=driver.find_element_by_xpath(\"//td[@class='URwL2w col col-9-12']/li\")\n",
    "        Primary_camera.append(camera1.text)\n",
    "        \n",
    "        camera2=driver.find_element_by_xpath(\"//td[@class='URwL2w col col-9-12']/li\")\n",
    "        Secondary_camera.append(camera2.text)\n",
    "        \n",
    "        size=driver.find_element_by_xpath(\"//td[@class='URwL2w col col-9-12']/li\")\n",
    "        Display_size.append(size.text)\n",
    "        \n",
    "        resolution=driver.find_element_by_xpath(\"//td[@class='URwL2w col col-9-12']/li\")\n",
    "        Display_resolution.append(resolution.text)\n",
    "        \n",
    "        processor=driver.find_element_by_xpath(\"//td[@class='URwL2w col col-9-12']/li\")\n",
    "        Processor.append(processor.text)\n",
    "        \n",
    "        core=driver.find_element_by_xpath(\"//td[@class='URwL2w col col-9-12']/li\")\n",
    "        Processor_core.append(core.text)\n",
    "        \n",
    "        battery=driver.find_element_by_xpath(\"//div[@class='_2418kt']/li[4]\")\n",
    "        Battery_capacity.append(battery.text)\n",
    "        \n",
    "        price=driver.find_element_by_xpath(\"//td[@class='URwL2w col col-9-12']/li\")\n",
    "        Price.append(price.text)\n",
    "        \n",
    "        url=driver.find_element_by_xpath(\"//td[@class='URwL2w col col-9-12']/li\")\n",
    "        Product_url.append(url.text)\n",
    "        \n",
    "        \n",
    "    except NoSuchElementException :\n",
    "        Brand_name.append(\"--\")#appending -- if no brand name is there\n",
    "            \n",
    "        \n",
    "   "
   ]
  },
  {
   "cell_type": "code",
   "execution_count": 45,
   "metadata": {},
   "outputs": [
    {
     "name": "stdout",
     "output_type": "stream",
     "text": [
      "['Realme C11 (Rich Green, 32 GB)  (2 GB RAM)', '--', 'Realme C11 (Rich Grey, 32 GB)  (2 GB RAM)', '--', 'POCO C3 (Arctic Blue, 32 GB)  (3 GB RAM)', '--', 'POCO C3 (Matte Black, 32 GB)  (3 GB RAM)', '--', 'POCO C3 (Lime Green, 64 GB)  (4 GB RAM)', '--', 'POCO M3 (Cool Blue, 64 GB)  (6 GB RAM)', '--', 'POCO M3 (Power Black, 64 GB)  (6 GB RAM)', '--', 'Redmi 9i (Midnight Black, 64 GB)  (4 GB RAM)', '--', 'Redmi 9i (Sea Blue, 64 GB)  (4 GB RAM)', '--', 'POCO M2 Pro (Out of the Blue, 64 GB)  (6 GB RAM)', '--', 'Motorola E7 Power (Tahiti Blue, 64 GB)  (4 GB RAM)', '--', 'POCO M2 Pro (Green and Greener, 64 GB)  (6 GB RAM)', '--', 'POCO M2 Pro (Out of the Blue, 64 GB)  (4 GB RAM)', '--', 'Redmi 9 Prime (Space Blue, 64 GB)  (4 GB RAM)', '--', 'POCO M2 (Slate Blue, 64 GB)  (6 GB RAM)', '--', 'Redmi 9i (Nature Green, 64 GB)  (4 GB RAM)', '--', 'Infinix Smart HD 2021 (Quartz Green, 32 GB)  (2 GB RAM)', '--', 'POCO M3 (Power Black, 128 GB)  (6 GB RAM)', '--', 'Redmi 9 Prime (Mint Green, 64 GB)  (4 GB RAM)', '--', 'Realme Narzo 20A (Glory Silver, 64 GB)  (4 GB RAM)', '--']\n"
     ]
    }
   ],
   "source": [
    "print(Brand_name)"
   ]
  },
  {
   "cell_type": "code",
   "execution_count": 51,
   "metadata": {},
   "outputs": [
    {
     "ename": "ValueError",
     "evalue": "Length of values does not match length of index",
     "output_type": "error",
     "traceback": [
      "\u001b[1;31m---------------------------------------------------------------------------\u001b[0m",
      "\u001b[1;31mValueError\u001b[0m                                Traceback (most recent call last)",
      "\u001b[1;32m<ipython-input-51-4aa5e148f642>\u001b[0m in \u001b[0;36m<module>\u001b[1;34m\u001b[0m\n\u001b[0;32m      3\u001b[0m \u001b[0mphone\u001b[0m\u001b[1;33m=\u001b[0m\u001b[0mpd\u001b[0m\u001b[1;33m.\u001b[0m\u001b[0mDataFrame\u001b[0m\u001b[1;33m(\u001b[0m\u001b[1;33m{\u001b[0m\u001b[1;33m}\u001b[0m\u001b[1;33m)\u001b[0m\u001b[1;33m\u001b[0m\u001b[1;33m\u001b[0m\u001b[0m\n\u001b[0;32m      4\u001b[0m \u001b[0mphone\u001b[0m\u001b[1;33m[\u001b[0m\u001b[1;34m'brand'\u001b[0m\u001b[1;33m]\u001b[0m\u001b[1;33m=\u001b[0m\u001b[0mBrand_name\u001b[0m\u001b[1;33m[\u001b[0m\u001b[1;33m:\u001b[0m\u001b[1;36m20\u001b[0m\u001b[1;33m]\u001b[0m\u001b[1;33m\u001b[0m\u001b[1;33m\u001b[0m\u001b[0m\n\u001b[1;32m----> 5\u001b[1;33m \u001b[0mphone\u001b[0m\u001b[1;33m[\u001b[0m\u001b[1;34m'name'\u001b[0m\u001b[1;33m]\u001b[0m\u001b[1;33m=\u001b[0m\u001b[0mSmartphone_name\u001b[0m\u001b[1;33m[\u001b[0m\u001b[1;33m:\u001b[0m\u001b[1;36m20\u001b[0m\u001b[1;33m]\u001b[0m\u001b[1;33m\u001b[0m\u001b[1;33m\u001b[0m\u001b[0m\n\u001b[0m\u001b[0;32m      6\u001b[0m \u001b[0mphone\u001b[0m\u001b[1;33m[\u001b[0m\u001b[1;34m'colour'\u001b[0m\u001b[1;33m]\u001b[0m\u001b[1;33m=\u001b[0m\u001b[0mColour\u001b[0m\u001b[1;33m[\u001b[0m\u001b[1;33m:\u001b[0m\u001b[1;36m20\u001b[0m\u001b[1;33m]\u001b[0m\u001b[1;33m\u001b[0m\u001b[1;33m\u001b[0m\u001b[0m\n\u001b[0;32m      7\u001b[0m \u001b[0mphone\u001b[0m\u001b[1;33m[\u001b[0m\u001b[1;34m'Ram'\u001b[0m\u001b[1;33m]\u001b[0m\u001b[1;33m=\u001b[0m\u001b[0mRAM\u001b[0m\u001b[1;33m[\u001b[0m\u001b[1;33m:\u001b[0m\u001b[1;36m20\u001b[0m\u001b[1;33m]\u001b[0m\u001b[1;33m\u001b[0m\u001b[1;33m\u001b[0m\u001b[0m\n",
      "\u001b[1;32m~\\anaconda3\\lib\\site-packages\\pandas\\core\\frame.py\u001b[0m in \u001b[0;36m__setitem__\u001b[1;34m(self, key, value)\u001b[0m\n\u001b[0;32m   2936\u001b[0m         \u001b[1;32melse\u001b[0m\u001b[1;33m:\u001b[0m\u001b[1;33m\u001b[0m\u001b[1;33m\u001b[0m\u001b[0m\n\u001b[0;32m   2937\u001b[0m             \u001b[1;31m# set column\u001b[0m\u001b[1;33m\u001b[0m\u001b[1;33m\u001b[0m\u001b[1;33m\u001b[0m\u001b[0m\n\u001b[1;32m-> 2938\u001b[1;33m             \u001b[0mself\u001b[0m\u001b[1;33m.\u001b[0m\u001b[0m_set_item\u001b[0m\u001b[1;33m(\u001b[0m\u001b[0mkey\u001b[0m\u001b[1;33m,\u001b[0m \u001b[0mvalue\u001b[0m\u001b[1;33m)\u001b[0m\u001b[1;33m\u001b[0m\u001b[1;33m\u001b[0m\u001b[0m\n\u001b[0m\u001b[0;32m   2939\u001b[0m \u001b[1;33m\u001b[0m\u001b[0m\n\u001b[0;32m   2940\u001b[0m     \u001b[1;32mdef\u001b[0m \u001b[0m_setitem_slice\u001b[0m\u001b[1;33m(\u001b[0m\u001b[0mself\u001b[0m\u001b[1;33m,\u001b[0m \u001b[0mkey\u001b[0m\u001b[1;33m,\u001b[0m \u001b[0mvalue\u001b[0m\u001b[1;33m)\u001b[0m\u001b[1;33m:\u001b[0m\u001b[1;33m\u001b[0m\u001b[1;33m\u001b[0m\u001b[0m\n",
      "\u001b[1;32m~\\anaconda3\\lib\\site-packages\\pandas\\core\\frame.py\u001b[0m in \u001b[0;36m_set_item\u001b[1;34m(self, key, value)\u001b[0m\n\u001b[0;32m   2998\u001b[0m \u001b[1;33m\u001b[0m\u001b[0m\n\u001b[0;32m   2999\u001b[0m         \u001b[0mself\u001b[0m\u001b[1;33m.\u001b[0m\u001b[0m_ensure_valid_index\u001b[0m\u001b[1;33m(\u001b[0m\u001b[0mvalue\u001b[0m\u001b[1;33m)\u001b[0m\u001b[1;33m\u001b[0m\u001b[1;33m\u001b[0m\u001b[0m\n\u001b[1;32m-> 3000\u001b[1;33m         \u001b[0mvalue\u001b[0m \u001b[1;33m=\u001b[0m \u001b[0mself\u001b[0m\u001b[1;33m.\u001b[0m\u001b[0m_sanitize_column\u001b[0m\u001b[1;33m(\u001b[0m\u001b[0mkey\u001b[0m\u001b[1;33m,\u001b[0m \u001b[0mvalue\u001b[0m\u001b[1;33m)\u001b[0m\u001b[1;33m\u001b[0m\u001b[1;33m\u001b[0m\u001b[0m\n\u001b[0m\u001b[0;32m   3001\u001b[0m         \u001b[0mNDFrame\u001b[0m\u001b[1;33m.\u001b[0m\u001b[0m_set_item\u001b[0m\u001b[1;33m(\u001b[0m\u001b[0mself\u001b[0m\u001b[1;33m,\u001b[0m \u001b[0mkey\u001b[0m\u001b[1;33m,\u001b[0m \u001b[0mvalue\u001b[0m\u001b[1;33m)\u001b[0m\u001b[1;33m\u001b[0m\u001b[1;33m\u001b[0m\u001b[0m\n\u001b[0;32m   3002\u001b[0m \u001b[1;33m\u001b[0m\u001b[0m\n",
      "\u001b[1;32m~\\anaconda3\\lib\\site-packages\\pandas\\core\\frame.py\u001b[0m in \u001b[0;36m_sanitize_column\u001b[1;34m(self, key, value, broadcast)\u001b[0m\n\u001b[0;32m   3634\u001b[0m \u001b[1;33m\u001b[0m\u001b[0m\n\u001b[0;32m   3635\u001b[0m             \u001b[1;31m# turn me into an ndarray\u001b[0m\u001b[1;33m\u001b[0m\u001b[1;33m\u001b[0m\u001b[1;33m\u001b[0m\u001b[0m\n\u001b[1;32m-> 3636\u001b[1;33m             \u001b[0mvalue\u001b[0m \u001b[1;33m=\u001b[0m \u001b[0msanitize_index\u001b[0m\u001b[1;33m(\u001b[0m\u001b[0mvalue\u001b[0m\u001b[1;33m,\u001b[0m \u001b[0mself\u001b[0m\u001b[1;33m.\u001b[0m\u001b[0mindex\u001b[0m\u001b[1;33m,\u001b[0m \u001b[0mcopy\u001b[0m\u001b[1;33m=\u001b[0m\u001b[1;32mFalse\u001b[0m\u001b[1;33m)\u001b[0m\u001b[1;33m\u001b[0m\u001b[1;33m\u001b[0m\u001b[0m\n\u001b[0m\u001b[0;32m   3637\u001b[0m             \u001b[1;32mif\u001b[0m \u001b[1;32mnot\u001b[0m \u001b[0misinstance\u001b[0m\u001b[1;33m(\u001b[0m\u001b[0mvalue\u001b[0m\u001b[1;33m,\u001b[0m \u001b[1;33m(\u001b[0m\u001b[0mnp\u001b[0m\u001b[1;33m.\u001b[0m\u001b[0mndarray\u001b[0m\u001b[1;33m,\u001b[0m \u001b[0mIndex\u001b[0m\u001b[1;33m)\u001b[0m\u001b[1;33m)\u001b[0m\u001b[1;33m:\u001b[0m\u001b[1;33m\u001b[0m\u001b[1;33m\u001b[0m\u001b[0m\n\u001b[0;32m   3638\u001b[0m                 \u001b[1;32mif\u001b[0m \u001b[0misinstance\u001b[0m\u001b[1;33m(\u001b[0m\u001b[0mvalue\u001b[0m\u001b[1;33m,\u001b[0m \u001b[0mlist\u001b[0m\u001b[1;33m)\u001b[0m \u001b[1;32mand\u001b[0m \u001b[0mlen\u001b[0m\u001b[1;33m(\u001b[0m\u001b[0mvalue\u001b[0m\u001b[1;33m)\u001b[0m \u001b[1;33m>\u001b[0m \u001b[1;36m0\u001b[0m\u001b[1;33m:\u001b[0m\u001b[1;33m\u001b[0m\u001b[1;33m\u001b[0m\u001b[0m\n",
      "\u001b[1;32m~\\anaconda3\\lib\\site-packages\\pandas\\core\\internals\\construction.py\u001b[0m in \u001b[0;36msanitize_index\u001b[1;34m(data, index, copy)\u001b[0m\n\u001b[0;32m    609\u001b[0m \u001b[1;33m\u001b[0m\u001b[0m\n\u001b[0;32m    610\u001b[0m     \u001b[1;32mif\u001b[0m \u001b[0mlen\u001b[0m\u001b[1;33m(\u001b[0m\u001b[0mdata\u001b[0m\u001b[1;33m)\u001b[0m \u001b[1;33m!=\u001b[0m \u001b[0mlen\u001b[0m\u001b[1;33m(\u001b[0m\u001b[0mindex\u001b[0m\u001b[1;33m)\u001b[0m\u001b[1;33m:\u001b[0m\u001b[1;33m\u001b[0m\u001b[1;33m\u001b[0m\u001b[0m\n\u001b[1;32m--> 611\u001b[1;33m         \u001b[1;32mraise\u001b[0m \u001b[0mValueError\u001b[0m\u001b[1;33m(\u001b[0m\u001b[1;34m\"Length of values does not match length of index\"\u001b[0m\u001b[1;33m)\u001b[0m\u001b[1;33m\u001b[0m\u001b[1;33m\u001b[0m\u001b[0m\n\u001b[0m\u001b[0;32m    612\u001b[0m \u001b[1;33m\u001b[0m\u001b[0m\n\u001b[0;32m    613\u001b[0m     \u001b[1;32mif\u001b[0m \u001b[0misinstance\u001b[0m\u001b[1;33m(\u001b[0m\u001b[0mdata\u001b[0m\u001b[1;33m,\u001b[0m \u001b[0mABCIndexClass\u001b[0m\u001b[1;33m)\u001b[0m \u001b[1;32mand\u001b[0m \u001b[1;32mnot\u001b[0m \u001b[0mcopy\u001b[0m\u001b[1;33m:\u001b[0m\u001b[1;33m\u001b[0m\u001b[1;33m\u001b[0m\u001b[0m\n",
      "\u001b[1;31mValueError\u001b[0m: Length of values does not match length of index"
     ]
    }
   ],
   "source": [
    "#creating a dataframe\n",
    "\n",
    "phone=pd.DataFrame({})\n",
    "phone['brand']=Brand_name[:20]\n",
    "phone['name']=Smartphone_name[:20]\n",
    "phone['colour']=Colour[:20]\n",
    "phone['Ram']=RAM[:20]\n",
    "phone['Rom']=ROM[:20]\n",
    "phone['camera1']=Primary_camera[:20]\n",
    "phone['camera2']=Secondary_camera[:20]\n",
    "phone['size']=Display_size[:20]\n",
    "phone['reolution']=Display_resolution[:20]\n",
    "phone['processor']=Processor[:20]\n",
    "phone['core']=Processor_core[:20]\n",
    "phone['battery']=Battery_capacity[:20]\n",
    "phone['price']=Price[:20]\n",
    "phone['url']=Product_url[:20]\n",
    "\n",
    "phone"
   ]
  },
  {
   "cell_type": "code",
   "execution_count": null,
   "metadata": {},
   "outputs": [],
   "source": [
    " \n",
    "       "
   ]
  },
  {
   "cell_type": "markdown",
   "metadata": {},
   "source": [
    "5. Write a program to scrap geospatial coordinates (latitude, longitude) of a city searched on google maps."
   ]
  },
  {
   "cell_type": "code",
   "execution_count": 2,
   "metadata": {},
   "outputs": [],
   "source": [
    "#initialising driver\n",
    "driver=webdriver.Chrome(\"C:\\Web driver\\\\chromedriver.exe\")\n",
    "driver.get('https://www.google.com/maps/@13.0216205,80.176346,15z')"
   ]
  },
  {
   "cell_type": "code",
   "execution_count": 3,
   "metadata": {},
   "outputs": [],
   "source": [
    "#locating the search bar\n",
    "search_bar=driver.find_element_by_class_name('tactile-searchbox-input')\n",
    "search_bar.clear()\n",
    "search_bar.send_keys('calicut')"
   ]
  },
  {
   "cell_type": "code",
   "execution_count": 4,
   "metadata": {},
   "outputs": [],
   "source": [
    "#locating the button and clicking it to search for city\n",
    "button=driver.find_element_by_id('searchbox-searchbutton')\n",
    "button.click()"
   ]
  },
  {
   "cell_type": "code",
   "execution_count": null,
   "metadata": {},
   "outputs": [],
   "source": [
    "#Latitude and longitude will be displayed on the web address we get,when we enter the page and type the city name."
   ]
  },
  {
   "cell_type": "markdown",
   "metadata": {},
   "source": [
    "==>https://www.google.com/maps/place/Kozhikode,+Kerala/@11.2260308,75.6970875,10.75z/data=!4m5!3m4!1s0x3ba65938563d4747:0x32150641ca32ecab!8m2!3d11.2587531!4d75.78041"
   ]
  },
  {
   "cell_type": "code",
   "execution_count": null,
   "metadata": {},
   "outputs": [],
   "source": [
    "Latutude and longitude of calicut city - 11.2260308,75.6970875"
   ]
  },
  {
   "cell_type": "code",
   "execution_count": null,
   "metadata": {},
   "outputs": [],
   "source": []
  },
  {
   "cell_type": "markdown",
   "metadata": {},
   "source": [
    "6. Write a program to scrap details of all the funding deals for second quarter (i.e. July 20 – September 20) from trak.in."
   ]
  },
  {
   "cell_type": "code",
   "execution_count": 57,
   "metadata": {},
   "outputs": [],
   "source": [
    "#initialising driver\n",
    "driver=webdriver.Chrome(\"C:\\Web driver\\\\chromedriver.exe\")\n",
    "driver.get('https://trak.in/')"
   ]
  },
  {
   "cell_type": "code",
   "execution_count": 54,
   "metadata": {},
   "outputs": [],
   "source": [
    "#locating the funding deals button and clicking it \n",
    "button=driver.find_elements_by_xpath(\"//li[@class='bs-pretty-tabs-container menu-item-has-children menu-item better-anim-fade bsm-leave']/a\")\n",
    "for i in button:\n",
    "    if i.text=='Funding Deals':\n",
    "        i.click()\n",
    "        break\n"
   ]
  },
  {
   "cell_type": "code",
   "execution_count": null,
   "metadata": {},
   "outputs": [],
   "source": []
  },
  {
   "cell_type": "code",
   "execution_count": null,
   "metadata": {},
   "outputs": [],
   "source": []
  },
  {
   "cell_type": "markdown",
   "metadata": {},
   "source": [
    "7. Write a program to scrap all the available details of top 10 gaming laptops from digit.in."
   ]
  },
  {
   "cell_type": "code",
   "execution_count": 61,
   "metadata": {},
   "outputs": [],
   "source": [
    "#initialising driver\n",
    "driver=webdriver.Chrome(\"C:\\Web driver\\\\chromedriver.exe\")\n",
    "driver.get('https://www.digit.in/')"
   ]
  },
  {
   "cell_type": "code",
   "execution_count": 60,
   "metadata": {},
   "outputs": [
    {
     "ename": "InvalidElementStateException",
     "evalue": "Message: invalid element state\n  (Session info: chrome=88.0.4324.190)\n",
     "output_type": "error",
     "traceback": [
      "\u001b[1;31m---------------------------------------------------------------------------\u001b[0m",
      "\u001b[1;31mInvalidElementStateException\u001b[0m              Traceback (most recent call last)",
      "\u001b[1;32m<ipython-input-60-038e534bcbfd>\u001b[0m in \u001b[0;36m<module>\u001b[1;34m\u001b[0m\n\u001b[0;32m      1\u001b[0m \u001b[1;31m#locating the search bar\u001b[0m\u001b[1;33m\u001b[0m\u001b[1;33m\u001b[0m\u001b[1;33m\u001b[0m\u001b[0m\n\u001b[0;32m      2\u001b[0m \u001b[0msearch_bar\u001b[0m\u001b[1;33m=\u001b[0m\u001b[0mdriver\u001b[0m\u001b[1;33m.\u001b[0m\u001b[0mfind_element_by_class_name\u001b[0m\u001b[1;33m(\u001b[0m\u001b[1;34m'top-serch'\u001b[0m\u001b[1;33m)\u001b[0m\u001b[1;33m\u001b[0m\u001b[1;33m\u001b[0m\u001b[0m\n\u001b[1;32m----> 3\u001b[1;33m \u001b[0msearch_bar\u001b[0m\u001b[1;33m.\u001b[0m\u001b[0mclear\u001b[0m\u001b[1;33m(\u001b[0m\u001b[1;33m)\u001b[0m\u001b[1;33m\u001b[0m\u001b[1;33m\u001b[0m\u001b[0m\n\u001b[0m\u001b[0;32m      4\u001b[0m \u001b[0msearch_bar\u001b[0m\u001b[1;33m.\u001b[0m\u001b[0msend_keys\u001b[0m\u001b[1;33m(\u001b[0m\u001b[1;34m'top gaming laptops'\u001b[0m\u001b[1;33m)\u001b[0m\u001b[1;33m\u001b[0m\u001b[1;33m\u001b[0m\u001b[0m\n",
      "\u001b[1;32m~\\anaconda3\\lib\\site-packages\\selenium\\webdriver\\remote\\webelement.py\u001b[0m in \u001b[0;36mclear\u001b[1;34m(self)\u001b[0m\n\u001b[0;32m     93\u001b[0m     \u001b[1;32mdef\u001b[0m \u001b[0mclear\u001b[0m\u001b[1;33m(\u001b[0m\u001b[0mself\u001b[0m\u001b[1;33m)\u001b[0m\u001b[1;33m:\u001b[0m\u001b[1;33m\u001b[0m\u001b[1;33m\u001b[0m\u001b[0m\n\u001b[0;32m     94\u001b[0m         \u001b[1;34m\"\"\"Clears the text if it's a text entry element.\"\"\"\u001b[0m\u001b[1;33m\u001b[0m\u001b[1;33m\u001b[0m\u001b[0m\n\u001b[1;32m---> 95\u001b[1;33m         \u001b[0mself\u001b[0m\u001b[1;33m.\u001b[0m\u001b[0m_execute\u001b[0m\u001b[1;33m(\u001b[0m\u001b[0mCommand\u001b[0m\u001b[1;33m.\u001b[0m\u001b[0mCLEAR_ELEMENT\u001b[0m\u001b[1;33m)\u001b[0m\u001b[1;33m\u001b[0m\u001b[1;33m\u001b[0m\u001b[0m\n\u001b[0m\u001b[0;32m     96\u001b[0m \u001b[1;33m\u001b[0m\u001b[0m\n\u001b[0;32m     97\u001b[0m     \u001b[1;32mdef\u001b[0m \u001b[0mget_property\u001b[0m\u001b[1;33m(\u001b[0m\u001b[0mself\u001b[0m\u001b[1;33m,\u001b[0m \u001b[0mname\u001b[0m\u001b[1;33m)\u001b[0m\u001b[1;33m:\u001b[0m\u001b[1;33m\u001b[0m\u001b[1;33m\u001b[0m\u001b[0m\n",
      "\u001b[1;32m~\\anaconda3\\lib\\site-packages\\selenium\\webdriver\\remote\\webelement.py\u001b[0m in \u001b[0;36m_execute\u001b[1;34m(self, command, params)\u001b[0m\n\u001b[0;32m    631\u001b[0m             \u001b[0mparams\u001b[0m \u001b[1;33m=\u001b[0m \u001b[1;33m{\u001b[0m\u001b[1;33m}\u001b[0m\u001b[1;33m\u001b[0m\u001b[1;33m\u001b[0m\u001b[0m\n\u001b[0;32m    632\u001b[0m         \u001b[0mparams\u001b[0m\u001b[1;33m[\u001b[0m\u001b[1;34m'id'\u001b[0m\u001b[1;33m]\u001b[0m \u001b[1;33m=\u001b[0m \u001b[0mself\u001b[0m\u001b[1;33m.\u001b[0m\u001b[0m_id\u001b[0m\u001b[1;33m\u001b[0m\u001b[1;33m\u001b[0m\u001b[0m\n\u001b[1;32m--> 633\u001b[1;33m         \u001b[1;32mreturn\u001b[0m \u001b[0mself\u001b[0m\u001b[1;33m.\u001b[0m\u001b[0m_parent\u001b[0m\u001b[1;33m.\u001b[0m\u001b[0mexecute\u001b[0m\u001b[1;33m(\u001b[0m\u001b[0mcommand\u001b[0m\u001b[1;33m,\u001b[0m \u001b[0mparams\u001b[0m\u001b[1;33m)\u001b[0m\u001b[1;33m\u001b[0m\u001b[1;33m\u001b[0m\u001b[0m\n\u001b[0m\u001b[0;32m    634\u001b[0m \u001b[1;33m\u001b[0m\u001b[0m\n\u001b[0;32m    635\u001b[0m     \u001b[1;32mdef\u001b[0m \u001b[0mfind_element\u001b[0m\u001b[1;33m(\u001b[0m\u001b[0mself\u001b[0m\u001b[1;33m,\u001b[0m \u001b[0mby\u001b[0m\u001b[1;33m=\u001b[0m\u001b[0mBy\u001b[0m\u001b[1;33m.\u001b[0m\u001b[0mID\u001b[0m\u001b[1;33m,\u001b[0m \u001b[0mvalue\u001b[0m\u001b[1;33m=\u001b[0m\u001b[1;32mNone\u001b[0m\u001b[1;33m)\u001b[0m\u001b[1;33m:\u001b[0m\u001b[1;33m\u001b[0m\u001b[1;33m\u001b[0m\u001b[0m\n",
      "\u001b[1;32m~\\anaconda3\\lib\\site-packages\\selenium\\webdriver\\remote\\webdriver.py\u001b[0m in \u001b[0;36mexecute\u001b[1;34m(self, driver_command, params)\u001b[0m\n\u001b[0;32m    319\u001b[0m         \u001b[0mresponse\u001b[0m \u001b[1;33m=\u001b[0m \u001b[0mself\u001b[0m\u001b[1;33m.\u001b[0m\u001b[0mcommand_executor\u001b[0m\u001b[1;33m.\u001b[0m\u001b[0mexecute\u001b[0m\u001b[1;33m(\u001b[0m\u001b[0mdriver_command\u001b[0m\u001b[1;33m,\u001b[0m \u001b[0mparams\u001b[0m\u001b[1;33m)\u001b[0m\u001b[1;33m\u001b[0m\u001b[1;33m\u001b[0m\u001b[0m\n\u001b[0;32m    320\u001b[0m         \u001b[1;32mif\u001b[0m \u001b[0mresponse\u001b[0m\u001b[1;33m:\u001b[0m\u001b[1;33m\u001b[0m\u001b[1;33m\u001b[0m\u001b[0m\n\u001b[1;32m--> 321\u001b[1;33m             \u001b[0mself\u001b[0m\u001b[1;33m.\u001b[0m\u001b[0merror_handler\u001b[0m\u001b[1;33m.\u001b[0m\u001b[0mcheck_response\u001b[0m\u001b[1;33m(\u001b[0m\u001b[0mresponse\u001b[0m\u001b[1;33m)\u001b[0m\u001b[1;33m\u001b[0m\u001b[1;33m\u001b[0m\u001b[0m\n\u001b[0m\u001b[0;32m    322\u001b[0m             response['value'] = self._unwrap_value(\n\u001b[0;32m    323\u001b[0m                 response.get('value', None))\n",
      "\u001b[1;32m~\\anaconda3\\lib\\site-packages\\selenium\\webdriver\\remote\\errorhandler.py\u001b[0m in \u001b[0;36mcheck_response\u001b[1;34m(self, response)\u001b[0m\n\u001b[0;32m    240\u001b[0m                 \u001b[0malert_text\u001b[0m \u001b[1;33m=\u001b[0m \u001b[0mvalue\u001b[0m\u001b[1;33m[\u001b[0m\u001b[1;34m'alert'\u001b[0m\u001b[1;33m]\u001b[0m\u001b[1;33m.\u001b[0m\u001b[0mget\u001b[0m\u001b[1;33m(\u001b[0m\u001b[1;34m'text'\u001b[0m\u001b[1;33m)\u001b[0m\u001b[1;33m\u001b[0m\u001b[1;33m\u001b[0m\u001b[0m\n\u001b[0;32m    241\u001b[0m             \u001b[1;32mraise\u001b[0m \u001b[0mexception_class\u001b[0m\u001b[1;33m(\u001b[0m\u001b[0mmessage\u001b[0m\u001b[1;33m,\u001b[0m \u001b[0mscreen\u001b[0m\u001b[1;33m,\u001b[0m \u001b[0mstacktrace\u001b[0m\u001b[1;33m,\u001b[0m \u001b[0malert_text\u001b[0m\u001b[1;33m)\u001b[0m\u001b[1;33m\u001b[0m\u001b[1;33m\u001b[0m\u001b[0m\n\u001b[1;32m--> 242\u001b[1;33m         \u001b[1;32mraise\u001b[0m \u001b[0mexception_class\u001b[0m\u001b[1;33m(\u001b[0m\u001b[0mmessage\u001b[0m\u001b[1;33m,\u001b[0m \u001b[0mscreen\u001b[0m\u001b[1;33m,\u001b[0m \u001b[0mstacktrace\u001b[0m\u001b[1;33m)\u001b[0m\u001b[1;33m\u001b[0m\u001b[1;33m\u001b[0m\u001b[0m\n\u001b[0m\u001b[0;32m    243\u001b[0m \u001b[1;33m\u001b[0m\u001b[0m\n\u001b[0;32m    244\u001b[0m     \u001b[1;32mdef\u001b[0m \u001b[0m_value_or_default\u001b[0m\u001b[1;33m(\u001b[0m\u001b[0mself\u001b[0m\u001b[1;33m,\u001b[0m \u001b[0mobj\u001b[0m\u001b[1;33m,\u001b[0m \u001b[0mkey\u001b[0m\u001b[1;33m,\u001b[0m \u001b[0mdefault\u001b[0m\u001b[1;33m)\u001b[0m\u001b[1;33m:\u001b[0m\u001b[1;33m\u001b[0m\u001b[1;33m\u001b[0m\u001b[0m\n",
      "\u001b[1;31mInvalidElementStateException\u001b[0m: Message: invalid element state\n  (Session info: chrome=88.0.4324.190)\n"
     ]
    }
   ],
   "source": [
    "#locating the search bar\n",
    "search_bar=driver.find_element_by_class_name('top-serch')\n",
    "search_bar.clear()\n",
    "search_bar.send_keys('top gaming laptops')"
   ]
  },
  {
   "cell_type": "code",
   "execution_count": null,
   "metadata": {},
   "outputs": [],
   "source": []
  },
  {
   "cell_type": "code",
   "execution_count": null,
   "metadata": {},
   "outputs": [],
   "source": []
  },
  {
   "cell_type": "code",
   "execution_count": null,
   "metadata": {},
   "outputs": [],
   "source": []
  }
 ],
 "metadata": {
  "kernelspec": {
   "display_name": "Python 3",
   "language": "python",
   "name": "python3"
  },
  "language_info": {
   "codemirror_mode": {
    "name": "ipython",
    "version": 3
   },
   "file_extension": ".py",
   "mimetype": "text/x-python",
   "name": "python",
   "nbconvert_exporter": "python",
   "pygments_lexer": "ipython3",
   "version": "3.8.3"
  }
 },
 "nbformat": 4,
 "nbformat_minor": 4
}
